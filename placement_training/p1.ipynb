{
 "cells": [
  {
   "cell_type": "code",
   "execution_count": 4,
   "id": "df891cae",
   "metadata": {},
   "outputs": [
    {
     "name": "stdout",
     "output_type": "stream",
     "text": [
      "Student(name='Pritam', class_name='MSc ADS', rollNo=68, height=166.7)\n",
      "Pritam\n"
     ]
    }
   ],
   "source": [
    "from dataclasses import dataclass\n",
    "@dataclass\n",
    "class Student:\n",
    "    name: str\n",
    "    class_name: str\n",
    "    rollNo: int\n",
    "    height: float\n",
    "\n",
    "student1 = Student('Pritam', \"MSc ADS\", 68, 166.7)\n",
    "print(student1)\n",
    "print(student1.name)"
   ]
  },
  {
   "cell_type": "code",
   "execution_count": 6,
   "id": "3c94ae72",
   "metadata": {},
   "outputs": [
    {
     "name": "stdout",
     "output_type": "stream",
     "text": [
      "B\n"
     ]
    }
   ],
   "source": [
    "marks = 80\n",
    "match marks:\n",
    "    case m if m >= 90: print('A')\n",
    "    case m if m >= 75: print('B')\n",
    "    case _: print('C')"
   ]
  },
  {
   "cell_type": "code",
   "execution_count": 7,
   "id": "d6727a85",
   "metadata": {},
   "outputs": [
    {
     "name": "stdout",
     "output_type": "stream",
     "text": [
      "20\n"
     ]
    }
   ],
   "source": [
    "class Stack:\n",
    "    def __init__(self):\n",
    "        self.items =[]\n",
    "    def push(self, val):\n",
    "        self.items.append(val)\n",
    "    def pop(self):\n",
    "        return self.items.pop()\n",
    "    \n",
    "s = Stack()\n",
    "s.push(10)\n",
    "s.push(20)\n",
    "print(s.pop())"
   ]
  },
  {
   "cell_type": "code",
   "execution_count": 10,
   "id": "0ce2791a",
   "metadata": {},
   "outputs": [
    {
     "name": "stdout",
     "output_type": "stream",
     "text": [
      "10\n"
     ]
    }
   ],
   "source": [
    "from collections import deque\n",
    "q = deque()\n",
    "q.append(10)\n",
    "q.append(20)\n",
    "print(q.popleft())"
   ]
  },
  {
   "cell_type": "code",
   "execution_count": 3,
   "id": "486a01cd",
   "metadata": {},
   "outputs": [
    {
     "name": "stdout",
     "output_type": "stream",
     "text": [
      "Student(name=Ram, age=23, department=MSc ADS, company=Accenture)\n",
      "{'name': 'Pritam', 'age': 23, 'department': 'MSc. ADS', 'company': 'Google'}\n"
     ]
    }
   ],
   "source": [
    "class Student:\n",
    "    def __init__(self, name, age, department, company):\n",
    "        self.name = name\n",
    "        self.age = age\n",
    "        self.department = department\n",
    "        self.company = company\n",
    "    \n",
    "    def __str__(self):\n",
    "        return f\"Student(name={self.name}, age={self.age}, department={self.department}, company={self.company})\"\n",
    "\n",
    "student1 = Student(\"Ram\", 23, \"MSc ADS\", \"Accenture\")\n",
    "print(student1)\n",
    "\n",
    "\n",
    "student2 = {\n",
    "    \"name\": \"Pritam\",\n",
    "    \"age\" : 23,\n",
    "    \"department\" : \"MSc. ADS\",\n",
    "    \"company\" : \"Google\"\n",
    "}\n",
    "\n",
    "print(student2)"
   ]
  },
  {
   "cell_type": "code",
   "execution_count": 4,
   "id": "bfffb4b0",
   "metadata": {},
   "outputs": [
    {
     "name": "stdout",
     "output_type": "stream",
     "text": [
      "25\n",
      "25\n"
     ]
    }
   ],
   "source": [
    "def square_normal(x):\n",
    "    return x*x\n",
    "\n",
    "square_lambda = lambda x : x*x\n",
    "\n",
    "print(square_normal(5))\n",
    "print(square_lambda(5))"
   ]
  },
  {
   "cell_type": "code",
   "execution_count": 5,
   "id": "bd9790e9",
   "metadata": {},
   "outputs": [
    {
     "name": "stdout",
     "output_type": "stream",
     "text": [
      "['Alice', 'Bob', 'Charlie']\n"
     ]
    }
   ],
   "source": [
    "names = [\"\", \"Alice\", 'Bob',\"\" ,\"Charlie\"]\n",
    "vaild_names = list(filter(lambda x: len(x)>0, names))\n",
    "print(vaild_names)"
   ]
  },
  {
   "cell_type": "code",
   "execution_count": 7,
   "id": "d61fe924",
   "metadata": {},
   "outputs": [
    {
     "name": "stdout",
     "output_type": "stream",
     "text": [
      "288\n"
     ]
    }
   ],
   "source": [
    "from functools import reduce\n",
    "nums = [12,2,3,4]\n",
    "multiple = reduce(lambda a, b:a*b, nums)\n",
    "print(multiple)"
   ]
  },
  {
   "cell_type": "code",
   "execution_count": 9,
   "id": "c2af4766",
   "metadata": {},
   "outputs": [
    {
     "name": "stdout",
     "output_type": "stream",
     "text": [
      "1\n",
      "2\n",
      "3\n",
      "4\n"
     ]
    }
   ],
   "source": [
    "nums = [1,2,3,4]\n",
    "it = iter(nums)\n",
    "for _ in range(4):\n",
    "    print(next(it))"
   ]
  },
  {
   "cell_type": "code",
   "execution_count": 3,
   "id": "a66ebf9f",
   "metadata": {},
   "outputs": [
    {
     "name": "stdout",
     "output_type": "stream",
     "text": [
      "Start\n",
      "Hello World!\n",
      "End\n"
     ]
    }
   ],
   "source": [
    "# DECORATOR\n",
    "def logger(func):\n",
    "    def wrapper():\n",
    "        print('Start')\n",
    "        func()\n",
    "        print(\"End\")\n",
    "    return wrapper\n",
    "\n",
    "@logger\n",
    "def hello():\n",
    "    print(\"Hello World!\")\n",
    "\n",
    "hello()"
   ]
  },
  {
   "cell_type": "code",
   "execution_count": 4,
   "id": "6138aab6",
   "metadata": {},
   "outputs": [
    {
     "name": "stdout",
     "output_type": "stream",
     "text": [
      "120\n"
     ]
    }
   ],
   "source": [
    "def factoroal(n):\n",
    "    if n==0 or n ==1:\n",
    "        return 1\n",
    "    else:\n",
    "        return n*factoroal(n-1)\n",
    "    \n",
    "print(factoroal(5))"
   ]
  },
  {
   "cell_type": "code",
   "execution_count": 14,
   "id": "07345fd6",
   "metadata": {},
   "outputs": [
    {
     "name": "stdout",
     "output_type": "stream",
     "text": [
      "Types of OOPs concept:\n",
      "1. Class\n",
      "2. Object\n",
      "3. Inheritance : It allows a class to acquire the properties and methods of another class.\n",
      "\t\tSingle Inheritance\n",
      "\t\tMultiple Inheritance\n",
      "\t\tMultilevel Inheritance\n",
      "\t\tHierarchical Inheritance\n",
      "\t\t\n",
      "\n",
      "4. Polymorphism:\n",
      "\t\t1. Overloading(Compile-time/limited)\n",
      "\t\t2. Overriding \n",
      "\n",
      "DSA: \n",
      "\t1. data structures\n",
      "\t2. Algorithms\n",
      "\t3. Keywords\n",
      "\t4. User-defined and Customised functions.\n",
      "\n",
      "Memory allocation in RAM:\n",
      "\t1. Heap\n",
      "\t2. Stack\n",
      "\t3. main()\n",
      "\t4. local and global variables.\n",
      "\t5. Code segments.\n",
      "\n",
      "Big O: Upper Bound.\n",
      "Big Omega : Lower Bound.\n",
      "Big Theta : Tight Bound.\n"
     ]
    }
   ],
   "source": [
    "with open(\"C:/Users/prita/OneDrive/Documents/Sem3_codes/placement_training/placement_trianing.txt\", \"r\") as r:\n",
    "    content = r.read()\n",
    "    print(content)"
   ]
  },
  {
   "cell_type": "code",
   "execution_count": 15,
   "id": "6cb4b622",
   "metadata": {},
   "outputs": [
    {
     "name": "stdout",
     "output_type": "stream",
     "text": [
      "1 0\n"
     ]
    }
   ],
   "source": [
    "from collections import defaultdict\n",
    "d = defaultdict(int)\n",
    "\n",
    "d['a'] += 1\n",
    "print(d['a'], d['b'])"
   ]
  },
  {
   "cell_type": "markdown",
   "id": "5a132ddd",
   "metadata": {},
   "source": [
    "1. Write a recursive functions to generate the n-th Fibonacci number.\n",
    "2. Create a generator that yields all even numbers up to N.\n",
    "3. You have a list of 1 milion numbers. Write a program to find the squares using memory efficient approach (generator approach instead of list)"
   ]
  },
  {
   "cell_type": "code",
   "execution_count": 7,
   "id": "10fd575a",
   "metadata": {},
   "outputs": [
    {
     "name": "stdout",
     "output_type": "stream",
     "text": [
      "3\n"
     ]
    }
   ],
   "source": [
    "def fibonacci(n):\n",
    "    if n <= 0:\n",
    "        return 0\n",
    "    elif n == 1:\n",
    "        return 1\n",
    "    else:\n",
    "        return fibonacci(n - 1) + fibonacci(n - 2)\n",
    "    \n",
    "print(fibonacci(4))"
   ]
  },
  {
   "cell_type": "code",
   "execution_count": 9,
   "id": "fbfa2f0c",
   "metadata": {},
   "outputs": [
    {
     "name": "stdout",
     "output_type": "stream",
     "text": [
      "0 2 4 6 8 10 "
     ]
    }
   ],
   "source": [
    "def even_numbers_up_to(n):\n",
    "    for i in range(0, n + 1, 2):\n",
    "        yield i\n",
    "\n",
    "for num in even_numbers_up_to(10):\n",
    "    print(num, end=\" \")"
   ]
  },
  {
   "cell_type": "code",
   "execution_count": 11,
   "id": "cea8a950",
   "metadata": {},
   "outputs": [],
   "source": [
    "def square_generator(n):\n",
    "    for i in range(n):\n",
    "        yield i * i"
   ]
  },
  {
   "cell_type": "code",
   "execution_count": null,
   "id": "5cec0d9e",
   "metadata": {},
   "outputs": [],
   "source": [
    "#Download multiple webpages in parallel"
   ]
  },
  {
   "cell_type": "code",
   "execution_count": 4,
   "id": "69c13874",
   "metadata": {},
   "outputs": [
    {
     "name": "stdout",
     "output_type": "stream",
     "text": [
      "Starting chaos\n",
      "Finished chaos\n"
     ]
    }
   ],
   "source": [
    "import threading\n",
    "import time\n",
    "\n",
    "def worker(name):\n",
    "    print(f\"Starting {name}\")\n",
    "    time.sleep(20)\n",
    "    print(f\"Finished {name}\")\n",
    "\n",
    "worker(name= \"chaos\")"
   ]
  },
  {
   "cell_type": "code",
   "execution_count": 5,
   "id": "f764c30e",
   "metadata": {},
   "outputs": [
    {
     "name": "stdout",
     "output_type": "stream",
     "text": [
      "Starting Task-1\n",
      "Starting Task-2\n",
      "Finished Task-1Finished Task-2\n",
      "\n",
      "All task completed!\n"
     ]
    }
   ],
   "source": [
    "t1 = threading.Thread(target=worker, args=(\"Task-1\",))\n",
    "t2 = threading.Thread(target=worker, args=(\"Task-2\",))\n",
    "\n",
    "t1.start()\n",
    "t2.start()\n",
    "\n",
    "t1.join()\n",
    "t2.join()\n",
    "\n",
    "print(\"All task completed!\")"
   ]
  },
  {
   "cell_type": "code",
   "execution_count": 14,
   "id": "8acc7676",
   "metadata": {},
   "outputs": [
    {
     "name": "stdout",
     "output_type": "stream",
     "text": [
      "All task completed!\n"
     ]
    }
   ],
   "source": [
    "from multiprocessing import Process\n",
    "import time\n",
    "\n",
    "def worker(name):\n",
    "    print(f\"Starting {name}\")\n",
    "    time.sleep(20)\n",
    "    print(f\"Finished {name}\")\n",
    "    \n",
    "\n",
    "if __name__ == \"__main__\":\n",
    "    p1 = Process(target=worker, args=(\"Task-1\",))\n",
    "    p2 = Process(target=worker, args=(\"Task-2\",))\n",
    "\n",
    "    p1.start()\n",
    "    p2.start()\n",
    "\n",
    "    p1.join()\n",
    "    p2.join()\n",
    "\n",
    "    print(\"All task completed!\")"
   ]
  },
  {
   "cell_type": "code",
   "execution_count": 15,
   "id": "dd760e8c",
   "metadata": {},
   "outputs": [],
   "source": [
    "from multiprocessing import Process, Queue\n",
    "def producer(q):\n",
    "    for i in range(5):\n",
    "        q.put(i)\n",
    "\n",
    "def consumer(q):\n",
    "    while not q.empty():\n",
    "        print(\"Got\", q.get())\n",
    "\n",
    "if __name__ == \"__main__\":\n",
    "    q = Queue()\n",
    "    p1 = Process(target=worker, args=(q,))\n",
    "    p2 = Process(target=worker, args=(q,))\n",
    "    p1.start()\n",
    "    p2.start()\n",
    "\n",
    "    p1.join()\n",
    "    p2.join()\n",
    "\n"
   ]
  },
  {
   "cell_type": "code",
   "execution_count": 1,
   "id": "25c81750",
   "metadata": {},
   "outputs": [
    {
     "name": "stdout",
     "output_type": "stream",
     "text": [
      "3\n"
     ]
    }
   ],
   "source": [
    "import sys\n",
    "a = [1,2,3]\n",
    "b = a\n",
    "print(sys.getrefcount(a))"
   ]
  },
  {
   "cell_type": "code",
   "execution_count": 2,
   "id": "a6bbd9e4",
   "metadata": {},
   "outputs": [
    {
     "name": "stdout",
     "output_type": "stream",
     "text": [
      "Number: 0\n",
      "Letter: A\n",
      "Number: 1\n",
      "Letter: B\n",
      "Number: 2\n",
      "Letter: C\n"
     ]
    }
   ],
   "source": [
    "import threading\n",
    "import time\n",
    "\n",
    "def print_numbers():\n",
    "    for i in range(3):\n",
    "        print(\"Number:\", i)\n",
    "        time.sleep(1)\n",
    "\n",
    "def print_letters():\n",
    "    for ch in ['A', 'B', 'C']:\n",
    "        print(\"Letter:\", ch)\n",
    "        time.sleep(1)\n",
    "\n",
    "t1 = threading.Thread(target=print_numbers)\n",
    "t2 = threading.Thread(target=print_letters)\n",
    "\n",
    "t1.start()\n",
    "t2.start()\n",
    "\n",
    "t1.join()\n",
    "t2.join()"
   ]
  },
  {
   "cell_type": "code",
   "execution_count": 4,
   "id": "eb604bfa",
   "metadata": {},
   "outputs": [
    {
     "name": "stdout",
     "output_type": "stream",
     "text": [
      "https://www.python.org: 200\n",
      "https://www.github.com: 200\n",
      "https://google.com: 200\n"
     ]
    }
   ],
   "source": [
    "import requests\n",
    "from concurrent.futures import ThreadPoolExecutor\n",
    "\n",
    "# List of URLs to download\n",
    "urls = [\n",
    "    \"https://google.com\",\n",
    "    \"https://www.python.org\",\n",
    "    \"https://www.github.com\",\n",
    "    # Add more URLs as needed\n",
    "]\n",
    "\n",
    "def fetch(url):\n",
    "    try:\n",
    "        response = requests.get(url, timeout=5)\n",
    "        print(f\"{url}: {response.status_code}\")\n",
    "        return response.text\n",
    "    except requests.RequestException as e:\n",
    "        print(f\"{url}: Failed ({e})\")\n",
    "        return None\n",
    "\n",
    "# Download in parallel\n",
    "with ThreadPoolExecutor(max_workers=5) as executor:\n",
    "    results = list(executor.map(fetch, urls))"
   ]
  },
  {
   "cell_type": "code",
   "execution_count": 2,
   "id": "3bd3c662",
   "metadata": {},
   "outputs": [
    {
     "name": "stdout",
     "output_type": "stream",
     "text": [
      "speaking now....\n",
      "Woof\n"
     ]
    }
   ],
   "source": [
    "class animal:\n",
    "    def __init__(self, name):\n",
    "        self.name = name\n",
    "    def speak(self):\n",
    "        print(\"speaking now....\")\n",
    "\n",
    "class dog(animal):\n",
    "    def speak(self):\n",
    "        super().speak()\n",
    "        print('Woof')\n",
    "\n",
    "a = dog(\"bruno\")\n",
    "a.speak()"
   ]
  },
  {
   "cell_type": "code",
   "execution_count": 6,
   "id": "9a49cf86",
   "metadata": {},
   "outputs": [
    {
     "name": "stdout",
     "output_type": "stream",
     "text": [
      "200000\n"
     ]
    }
   ],
   "source": [
    "class Employee:\n",
    "    def __init__(self, name, salary, bond, company):\n",
    "        self.name = name\n",
    "        self.salary = salary\n",
    "        self.bond = bond\n",
    "        self.company = company\n",
    "\n",
    "    def get_salary(self):\n",
    "        return self.salary\n",
    "    \n",
    "a = Employee(\"Pritam\", 200000, 2, \"Google\")\n",
    "print(a.get_salary())"
   ]
  },
  {
   "cell_type": "code",
   "execution_count": 7,
   "id": "ab9914a9",
   "metadata": {},
   "outputs": [
    {
     "name": "stdout",
     "output_type": "stream",
     "text": [
      "[2, 3, 4]\n",
      "[1, 2, 10, 4]\n"
     ]
    }
   ],
   "source": [
    "a = [1,2,3,4]\n",
    "print(a[1:])\n",
    "a[2]= 10\n",
    "print(a)"
   ]
  },
  {
   "cell_type": "code",
   "execution_count": 8,
   "id": "85c9e0c1",
   "metadata": {},
   "outputs": [
    {
     "name": "stdout",
     "output_type": "stream",
     "text": [
      "[30, 40, 50]\n",
      "[60, 50, 40, 30, 20, 10]\n"
     ]
    }
   ],
   "source": [
    "arr = [10,20,30,40,50,60]\n",
    "print(arr[2:5])\n",
    "print(arr[::-1])"
   ]
  },
  {
   "cell_type": "code",
   "execution_count": 1,
   "id": "cba1e843",
   "metadata": {},
   "outputs": [
    {
     "name": "stdout",
     "output_type": "stream",
     "text": [
      "2\n"
     ]
    }
   ],
   "source": [
    "def subarray_sum(nums, k):\n",
    "    prefix_sum = 0\n",
    "    count = 0\n",
    "    seen = {0: 1}  # Dictionary to store the frequency of prefix sums\n",
    "    for num in nums:\n",
    "        prefix_sum += num\n",
    "        if (prefix_sum - k) in seen:\n",
    "            count += seen[prefix_sum - k]\n",
    "        seen[prefix_sum] = seen.get(prefix_sum, 0) + 1\n",
    "    return count\n",
    "print(subarray_sum([1,1,1], 2))"
   ]
  },
  {
   "cell_type": "code",
   "execution_count": 3,
   "id": "1a2d5e45",
   "metadata": {},
   "outputs": [
    {
     "name": "stdout",
     "output_type": "stream",
     "text": [
      "{1: 2, 2: 3, 3: 1, 4: 2, 5: 1}\n"
     ]
    }
   ],
   "source": [
    "freq = {}\n",
    "nums = [1,2,3,4,5,2,2,1,4]\n",
    "\n",
    "for num in nums:\n",
    "    if num in freq:\n",
    "        freq[num] += 1\n",
    "    else:\n",
    "        freq[num] = 1\n",
    "print(freq)"
   ]
  },
  {
   "cell_type": "code",
   "execution_count": 5,
   "id": "21da2529",
   "metadata": {},
   "outputs": [
    {
     "name": "stdout",
     "output_type": "stream",
     "text": [
      "Counter({'b': 5, 'a': 3, 's': 2, 'c': 1, 'j': 1, 'e': 1})\n"
     ]
    }
   ],
   "source": [
    "from collections import Counter\n",
    "s = 'absbabsbcjeab'\n",
    "char_counter = Counter(s)\n",
    "print(char_counter)"
   ]
  },
  {
   "cell_type": "code",
   "execution_count": 6,
   "id": "cc5fdbe5",
   "metadata": {},
   "outputs": [
    {
     "name": "stdout",
     "output_type": "stream",
     "text": [
      "True\n",
      "True\n",
      "False\n"
     ]
    }
   ],
   "source": [
    "def are_anagrams(str1, str2):\n",
    "    # Normalize: remove spaces and convert to lowercase\n",
    "    clean1 = ''.join(sorted(str1.replace(\" \", \"\").lower()))\n",
    "    clean2 = ''.join(sorted(str2.replace(\" \", \"\").lower()))\n",
    "    return clean1 == clean2\n",
    "\n",
    "# Example usage\n",
    "print(are_anagrams(\"Listen\", \"Silent\"))   # True\n",
    "print(are_anagrams(\"Hello\", \"Olelh\"))     # True\n",
    "print(are_anagrams(\"Test\", \"Taste\"))      # False"
   ]
  },
  {
   "cell_type": "code",
   "execution_count": null,
   "id": "5bcb5a8e",
   "metadata": {},
   "outputs": [],
   "source": []
  }
 ],
 "metadata": {
  "kernelspec": {
   "display_name": ".venv (3.13.7)",
   "language": "python",
   "name": "python3"
  },
  "language_info": {
   "codemirror_mode": {
    "name": "ipython",
    "version": 3
   },
   "file_extension": ".py",
   "mimetype": "text/x-python",
   "name": "python",
   "nbconvert_exporter": "python",
   "pygments_lexer": "ipython3",
   "version": "3.13.7"
  }
 },
 "nbformat": 4,
 "nbformat_minor": 5
}
